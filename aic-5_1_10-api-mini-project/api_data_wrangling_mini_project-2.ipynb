{
 "cells": [
  {
   "cell_type": "markdown",
   "metadata": {},
   "source": [
    "This exercise will require you to pull some data from the Qunadl API. Qaundl is currently the most widely used aggregator of financial market data."
   ]
  },
  {
   "cell_type": "markdown",
   "metadata": {},
   "source": [
    "As a first step, you will need to register a free account on the http://www.quandl.com website."
   ]
  },
  {
   "cell_type": "markdown",
   "metadata": {},
   "source": [
    "After you register, you will be provided with a unique API key, that you should store:"
   ]
  },
  {
   "cell_type": "code",
   "execution_count": 1,
   "metadata": {
    "collapsed": true
   },
   "outputs": [],
   "source": [
    "# Store the API key as a string - according to PEP8, constants are always named in all upper case\n",
    "API_KEY = '9o39SaQZapfss_j5ATyQ'"
   ]
  },
  {
   "cell_type": "markdown",
   "metadata": {},
   "source": [
    "Qaundl has a large number of data sources, but, unfortunately, most of them require a Premium subscription. Still, there are also a good number of free datasets."
   ]
  },
  {
   "cell_type": "markdown",
   "metadata": {},
   "source": [
    "For this mini project, we will focus on equities data from the Frankfurt Stock Exhange (FSE), which is available for free. We'll try and analyze the stock prices of a company called Carl Zeiss Meditec, which manufactures tools for eye examinations, as well as medical lasers for laser eye surgery: https://www.zeiss.com/meditec/int/home.html. The company is listed under the stock ticker AFX_X."
   ]
  },
  {
   "cell_type": "markdown",
   "metadata": {},
   "source": [
    "You can find the detailed Quandl API instructions here: https://docs.quandl.com/docs/time-series"
   ]
  },
  {
   "cell_type": "markdown",
   "metadata": {},
   "source": [
    "While there is a dedicated Python package for connecting to the Quandl API, we would prefer that you use the *requests* package, which can be easily downloaded using *pip* or *conda*. You can find the documentation for the package here: http://docs.python-requests.org/en/master/ "
   ]
  },
  {
   "cell_type": "markdown",
   "metadata": {},
   "source": [
    "Finally, apart from the *requests* package, you are encouraged to not use any third party Python packages, such as *pandas*, and instead focus on what's available in the Python Standard Library (the *collections* module might come in handy: https://pymotw.com/3/collections/).\n",
    "Also, since you won't have access to DataFrames, you are encouraged to us Python's native data structures - preferably dictionaries, though some questions can also be answered using lists.\n",
    "You can read more on these data structures here: https://docs.python.org/3/tutorial/datastructures.html"
   ]
  },
  {
   "cell_type": "markdown",
   "metadata": {},
   "source": [
    "Keep in mind that the JSON responses you will be getting from the API map almost one-to-one to Python's dictionaries. Unfortunately, they can be very nested, so make sure you read up on indexing dictionaries in the documentation provided above."
   ]
  },
  {
   "cell_type": "code",
   "execution_count": 2,
   "metadata": {
    "collapsed": true
   },
   "outputs": [],
   "source": [
    "# First, import the relevant modules\n",
    "import requests\n",
    "import json"
   ]
  },
  {
   "cell_type": "code",
   "execution_count": 3,
   "metadata": {},
   "outputs": [
    {
     "name": "stdout",
     "output_type": "stream",
     "text": [
      "https://www.quandl.com/api/v3/datasets/FSE/AFX_X/data.json?api_key=9o39SaQZapfss_j5ATyQ&start_date=2017-01-02&end_date=2017-01-02\n",
      "200\n",
      "{\"dataset_data\":{\"limit\":null,\"transform\":null,\"column_index\":null,\"column_names\":[\"Date\",\"Open\",\"High\",\"Low\",\"Close\",\"Change\",\"Traded Volume\",\"Turnover\",\"Last Price of the Day\",\"Daily Traded Units\",\"Daily Turnover\"],\"start_date\":\"2017-01-02\",\"end_date\":\"2017-01-02\",\"frequency\":\"daily\",\"data\":[[\"2017-01-02\",34.99,35.94,34.99,35.8,null,44700.0,1590561.0,null,null,null]],\"collapse\":null,\"order\":null}}\n"
     ]
    }
   ],
   "source": [
    "## Now, call the Quandl API and pull out a small sample of the data (only one day) to get a glimpse\n",
    "# into the JSON structure that will be returned\n",
    "EQUITY_EXCHANGE = '/FSE'\n",
    "EQUITY_ID = '/AFX_X'\n",
    "RETURN_FORMAT = '/data.json'\n",
    "\n",
    "START_DATE = '2017-01-02'\n",
    "END_DATE = '2017-01-02'\n",
    "\n",
    "# GET https://www.quandl.com/api/v3/datasets/{database_code}/{dataset_code}/data.{return_format}\n",
    "url = 'https://www.quandl.com/api/v3/datasets' \\\n",
    "        + EQUITY_EXCHANGE \\\n",
    "        + EQUITY_ID \\\n",
    "        + RETURN_FORMAT \\\n",
    "        + '?api_key=' + API_KEY \\\n",
    "        + '&start_date=' + START_DATE \\\n",
    "        + '&end_date=' + END_DATE\n",
    "print(url)\n",
    "res = requests.get(url)\n",
    "print(res.status_code)\n",
    "print(res.text)"
   ]
  },
  {
   "cell_type": "code",
   "execution_count": 4,
   "metadata": {},
   "outputs": [
    {
     "name": "stdout",
     "output_type": "stream",
     "text": [
      "<class 'str'>\n",
      "{'limit': None, 'transform': None, 'column_index': None, 'column_names': ['Date', 'Open', 'High', 'Low', 'Close', 'Change', 'Traded Volume', 'Turnover', 'Last Price of the Day', 'Daily Traded Units', 'Daily Turnover'], 'start_date': '2017-01-02', 'end_date': '2017-01-02', 'frequency': 'daily', 'data': [['2017-01-02', 34.99, 35.94, 34.99, 35.8, None, 44700.0, 1590561.0, None, None, None]], 'collapse': None, 'order': None}\n",
      "['Date', 'Open', 'High', 'Low', 'Close', 'Change', 'Traded Volume', 'Turnover', 'Last Price of the Day', 'Daily Traded Units', 'Daily Turnover']\n",
      "[['2017-01-02', 34.99, 35.94, 34.99, 35.8, None, 44700.0, 1590561.0, None, None, None]]\n"
     ]
    }
   ],
   "source": [
    "print(type(res.text))\n",
    "afx_x = json.loads(res.text)\n",
    "print(afx_x['dataset_data'])\n",
    "print(afx_x['dataset_data']['column_names'])\n",
    "print(afx_x['dataset_data']['data'])"
   ]
  },
  {
   "cell_type": "code",
   "execution_count": 5,
   "metadata": {
    "collapsed": true
   },
   "outputs": [],
   "source": [
    "# Inspect the JSON structure of the object you created, and take note of how nested it is,\n",
    "# as well as the overall structure\n"
   ]
  },
  {
   "cell_type": "markdown",
   "metadata": {},
   "source": [
    "These are your tasks for this mini project:\n",
    "\n",
    "1. Collect data from the Franfurt Stock Exchange, for the ticker AFX_X, for the whole year 2017 (keep in mind that the date format is YYYY-MM-DD).\n",
    "2. Convert the returned JSON object into a Python dictionary.\n",
    "3. Calculate what the highest and lowest opening prices were for the stock in this period.\n",
    "4. What was the largest change in any one day (based on High and Low price)?\n",
    "5. What was the largest change between any two days (based on Closing Price)?\n",
    "6. What was the average daily trading volume during this year?\n",
    "7. (Optional) What was the median trading volume during this year. (Note: you may need to implement your own function for calculating the median.)"
   ]
  },
  {
   "cell_type": "code",
   "execution_count": 6,
   "metadata": {},
   "outputs": [
    {
     "name": "stdout",
     "output_type": "stream",
     "text": [
      "True\n",
      "requests return success!\n"
     ]
    }
   ],
   "source": [
    "EQUITY_EXCHANGE = '/FSE'\n",
    "EQUITY_ID = '/AFX_X'\n",
    "RETURN_FORMAT = '/data.json'\n",
    "START_DATE = '2017-01-01'\n",
    "END_DATE = '2017-12-31'\n",
    "\n",
    "# GET https://www.quandl.com/api/v3/datasets/{database_code}/{dataset_code}/data.{return_format}\n",
    "url = 'https://www.quandl.com/api/v3/datasets' \\\n",
    "        + EQUITY_EXCHANGE \\\n",
    "        + EQUITY_ID \\\n",
    "        + RETURN_FORMAT \\\n",
    "        + '?api_key=' + API_KEY \\\n",
    "        + '&start_date=' + START_DATE \\\n",
    "        + '&end_date=' + END_DATE\n",
    "        \n",
    "res = requests.get(url)\n",
    "print(res.ok)\n",
    "if res.ok:\n",
    "    print('requests return success!')\n",
    "    afx_x_2017 = json.loads(res.text)\n",
    "    #print(afx_x_2017)\n",
    "else:\n",
    "    print('requests has error!')\n",
    "# {\n",
    "# \"dataset_data\": {\n",
    "#        \"limit\":null,\n",
    "#     \t\"transform\":null,\n",
    "#     \t\"column_index\":null,\n",
    "#     \t\"column_names\":[\"Date\",\"Open\",\"High\",\"Low\",\"Close\",\"Change\",\"Traded Volume\",\"Turnover\",\"Last Price of the Day\",\"Daily Traded Units\",\"Daily Turnover\"],\n",
    "#     \t\"start_date\":\"2017-01-01\",\n",
    "#     \t\"end_date\":\"2017-12-31\",\n",
    "#     \t\"frequency\":\"daily\",\n",
    "\n",
    "#     \t\"data\":[\n",
    "#     \t\t\t['2017-12-29', 51.76, 51.94, 51.45, 51.76, None, 34640.0, 1792304.0, None, None, None], \n",
    "#     \t\t\t['2017-12-28', 51.65, 51.82, 51.43, 51.6, None, 40660.0, 2099024.0, None, None, None],\n",
    "#     \t\"collapse\":null,\n",
    "#     \t\"order\":null\n",
    "# \t}\n",
    "# }\n",
    "#"
   ]
  },
  {
   "cell_type": "code",
   "execution_count": 7,
   "metadata": {
    "collapsed": true
   },
   "outputs": [],
   "source": [
    "# the highest and lowest opening prices \n",
    "year_opening_high = afx_x_2017['dataset_data']['data'][0][1]\n",
    "year_opening_low = afx_x_2017['dataset_data']['data'][0][1]\n",
    "\n",
    "# the largest change in any one day\n",
    "year_interday_change_max = afx_x_2017['dataset_data']['data'][0][2] - afx_x_2017['dataset_data']['data'][0][3]\n",
    "\n",
    "# the largest change between any two days closing price\n",
    "year_closing_change_max = abs(afx_x_2017['dataset_data']['data'][0][4] - afx_x_2017['dataset_data']['data'][1][4])\n",
    "\n",
    "# the average daily trading volume\n",
    "year_vol_sum = afx_x_2017['dataset_data']['data'][0][6]\n",
    "vol_list = []\n",
    "vol_list.append(afx_x_2017['dataset_data']['data'][0][6])\n",
    "\n",
    "# create a list to \n",
    "\n",
    "for year_trading_counter in range(1, len(afx_x_2017['dataset_data']['data'])):\n",
    "    current = afx_x_2017['dataset_data']['data'][year_trading_counter]\n",
    "\n",
    "    if current[1] and current[1] > year_opening_high:\n",
    "        year_opening_high = current[1]\n",
    "    elif current[1] and current[1] < year_opening_low:\n",
    "        year_opening_low = current[1]\n",
    "        \n",
    "    \n",
    "    if (current[2] and current[3]) and (current[2] - current[3]) > year_interday_change_max:\n",
    "        year_interday_change_max = current[2] - current[3]\n",
    "    \n",
    "    if abs(current[4] - afx_x_2017['dataset_data']['data'][year_trading_counter-1][4]) > year_closing_change_max:\n",
    "        year_closing_change_max = abs(current[4] - afx_x_2017['dataset_data']['data'][year_trading_counter-1][4])\n",
    "        \n",
    "    year_vol_sum = year_vol_sum + current[6]\n",
    "    vol_list.append(current[6])\n",
    "    \n",
    "average_vol = year_vol_sum / (year_trading_counter + 1)   "
   ]
  },
  {
   "cell_type": "code",
   "execution_count": 8,
   "metadata": {},
   "outputs": [
    {
     "name": "stdout",
     "output_type": "stream",
     "text": [
      "opening high:  53.11\n",
      "opening low:  34.0\n",
      "interday change max: 2.8100000000000023\n",
      "closing change: 2.559999999999995\n",
      "average_vol: 89124.33725490196\n"
     ]
    }
   ],
   "source": [
    "# Calculate what the highest and lowest opening prices were for the stock in this period.\n",
    "print(\"opening high: \", year_opening_high)\n",
    "print(\"opening low: \", year_opening_low)\n",
    "\n",
    "# What was the largest change in any one day (based on High and Low price)?\n",
    "print(\"interday change max:\", year_interday_change_max)\n",
    "\n",
    "# What was the largest change between any two days (based on Closing Price)?\n",
    "print(\"closing change:\",year_closing_change_max)\n",
    "\n",
    "# What was the average daily trading volume during this year?\n",
    "print(\"average_vol:\", average_vol)"
   ]
  },
  {
   "cell_type": "code",
   "execution_count": 121,
   "metadata": {
    "collapsed": true
   },
   "outputs": [],
   "source": [
    "# Just Practice \n",
    "\n",
    "# import pandas as pd\n",
    "# coulum_name = afx_x_2017['dataset_data']['column_names']\n",
    "# df_columns = [coulum_name[0], coulum_name[1], coulum_name[2], coulum_name[3], coulum_name[4], coulum_name[6]]\n",
    "# df = pd.DataFrame(columns=columns)\n",
    "# print(df)\n",
    "# for ticker in afx_x_2017['dataset_data']['data']:\n",
    "# #     if (ticker[0] and ticker[1] and ticker[2] and ticker[3] and ticker[4] and ticker[6]):\n",
    "#     df = df.append(pd.Series([ticker[0], ticker[1], ticker[2], ticker[3], ticker[4], ticker[6]], df_columns), ignore_index=True)\n"
   ]
  },
  {
   "cell_type": "code",
   "execution_count": 122,
   "metadata": {
    "collapsed": true
   },
   "outputs": [],
   "source": [
    "# df1 = pd.DataFrame.from_dict(afx_x_2017['dataset_data']['data'])"
   ]
  },
  {
   "cell_type": "code",
   "execution_count": 143,
   "metadata": {
    "collapsed": true
   },
   "outputs": [],
   "source": [
    "# (Optional) What was the median trading volume during this year. \n",
    "# (Note: you may need to implement your own function for calculating the median.)\n",
    "\n",
    "def merge_sort(vol_list):\n",
    "    \n",
    "    n = len(vol_list) \n",
    "    if n < 2:\n",
    "        return\n",
    "    \n",
    "    index = n // 2\n",
    "    left = vol_list[:index]\n",
    "    right = vol_list[index:]\n",
    "    \n",
    "    merge_sort(left)\n",
    "    merge_sort(right)\n",
    "    \n",
    "    i = 0\n",
    "    j = 0\n",
    "    cursor = 0\n",
    "    while i < len(left) and j < len(right):\n",
    "        if left[i] < right[j]:\n",
    "            vol_list[cursor] = left[i]\n",
    "            i += 1\n",
    "            cursor += 1\n",
    "        else:\n",
    "            vol_list[cursor] = right[j]\n",
    "            j += 1\n",
    "            cursor += 1\n",
    "    \n",
    "    while i < len(left):\n",
    "        vol_list[cursor] = left[i]\n",
    "        i += 1\n",
    "        cursor += 1\n",
    "    \n",
    "    while j < len(right):\n",
    "        vol_list[cursor] = right[j]\n",
    "        j += 1\n",
    "        cursor += 1\n",
    "    return    "
   ]
  },
  {
   "cell_type": "code",
   "execution_count": 147,
   "metadata": {},
   "outputs": [
    {
     "name": "stdout",
     "output_type": "stream",
     "text": [
      "median trading volume:  76286.0\n"
     ]
    }
   ],
   "source": [
    "# year_vol = [34, 3, 64, 54, 23, 21, 98, 203, 1, -10]\n",
    "merge_sort(vol_list)\n",
    "median_vol = vol_list[len(vol_list) // 2]\n",
    "# print(vol_list)\n",
    "print('median trading volume: ', median_vol)"
   ]
  },
  {
   "cell_type": "code",
   "execution_count": null,
   "metadata": {
    "collapsed": true
   },
   "outputs": [],
   "source": []
  }
 ],
 "metadata": {
  "kernelspec": {
   "display_name": "Python 3",
   "language": "python",
   "name": "python3"
  },
  "language_info": {
   "codemirror_mode": {
    "name": "ipython",
    "version": 3
   },
   "file_extension": ".py",
   "mimetype": "text/x-python",
   "name": "python",
   "nbconvert_exporter": "python",
   "pygments_lexer": "ipython3",
   "version": "3.6.2"
  }
 },
 "nbformat": 4,
 "nbformat_minor": 2
}
